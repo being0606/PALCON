{
 "cells": [
  {
   "cell_type": "code",
   "execution_count": 9,
   "metadata": {},
   "outputs": [
    {
     "name": "stderr",
     "output_type": "stream",
     "text": [
      "[ WARN:0@570.891] global loadsave.cpp:248 findDecoder imread_('.../imgs/IMG_2945.jpeg'): can't open/read file: check file path/integrity\n"
     ]
    },
    {
     "ename": "FileNotFoundError",
     "evalue": "Image at /Users/being/Desktop/workspace2024/PALCON/imgs/IMG_2944.png could not be loaded.",
     "output_type": "error",
     "traceback": [
      "\u001b[0;31m---------------------------------------------------------------------------\u001b[0m",
      "\u001b[0;31mFileNotFoundError\u001b[0m                         Traceback (most recent call last)",
      "Cell \u001b[0;32mIn[9], line 14\u001b[0m\n\u001b[1;32m     12\u001b[0m \u001b[38;5;66;03m# 이미지가 로드되었는지 확인\u001b[39;00m\n\u001b[1;32m     13\u001b[0m \u001b[38;5;28;01mif\u001b[39;00m image_50cm \u001b[38;5;129;01mis\u001b[39;00m \u001b[38;5;28;01mNone\u001b[39;00m:\n\u001b[0;32m---> 14\u001b[0m     \u001b[38;5;28;01mraise\u001b[39;00m \u001b[38;5;167;01mFileNotFoundError\u001b[39;00m(\u001b[38;5;124mf\u001b[39m\u001b[38;5;124m\"\u001b[39m\u001b[38;5;124mImage at \u001b[39m\u001b[38;5;132;01m{\u001b[39;00mimage_50cm_path\u001b[38;5;132;01m}\u001b[39;00m\u001b[38;5;124m could not be loaded.\u001b[39m\u001b[38;5;124m\"\u001b[39m)\n\u001b[1;32m     15\u001b[0m \u001b[38;5;28;01mif\u001b[39;00m image_10cm \u001b[38;5;129;01mis\u001b[39;00m \u001b[38;5;28;01mNone\u001b[39;00m:\n\u001b[1;32m     16\u001b[0m     \u001b[38;5;28;01mraise\u001b[39;00m \u001b[38;5;167;01mFileNotFoundError\u001b[39;00m(\u001b[38;5;124mf\u001b[39m\u001b[38;5;124m\"\u001b[39m\u001b[38;5;124mImage at \u001b[39m\u001b[38;5;132;01m{\u001b[39;00mimage_10cm_path\u001b[38;5;132;01m}\u001b[39;00m\u001b[38;5;124m could not be loaded.\u001b[39m\u001b[38;5;124m\"\u001b[39m)\n",
      "\u001b[0;31mFileNotFoundError\u001b[0m: Image at /Users/being/Desktop/workspace2024/PALCON/imgs/IMG_2944.png could not be loaded."
     ]
    }
   ],
   "source": [
    "import cv2\n",
    "import numpy as np\n",
    "import matplotlib.pyplot as plt\n",
    "\n",
    "# 이미지 로드\n",
    "image_50cm_path = '/Users/being/Desktop/workspace2024/PALCON/imgs/IMG_2944.png'\n",
    "image_10cm_path = '.../imgs/IMG_2945.jpeg'\n",
    "\n",
    "image_50cm = cv2.imread(image_50cm_path)\n",
    "image_10cm = cv2.imread(image_10cm_path)\n",
    "\n",
    "# 이미지가 로드되었는지 확인\n",
    "if image_50cm is None:\n",
    "    raise FileNotFoundError(f\"Image at {image_50cm_path} could not be loaded.\")\n",
    "if image_10cm is None:\n",
    "    raise FileNotFoundError(f\"Image at {image_10cm_path} could not be loaded.\")\n",
    "\n",
    "# 이미지 표시 함수\n",
    "def show_image(image, title=\"Image\"):\n",
    "    plt.imshow(cv2.cvtColor(image, cv2.COLOR_BGR2RGB))\n",
    "    plt.title(title)\n",
    "    plt.axis('off')\n",
    "    plt.show()\n",
    "\n",
    "# 이미지를 시각화하여 확인\n",
    "show_image(image_50cm, \"Image at 50cm\")\n",
    "show_image(image_10cm, \"Image at 10cm\")\n",
    "\n",
    "# 그리드 크기 측정 함수\n",
    "def measure_grid_size(image):\n",
    "    gray = cv2.cvtColor(image, cv2.COLOR_BGR2GRAY)\n",
    "    blurred = cv2.GaussianBlur(gray, (5, 5), 0)  # 가우시안 블러 적용\n",
    "    edges = cv2.Canny(blurred, 50, 150, apertureSize=3)\n",
    "    lines = cv2.HoughLinesP(edges, 1, np.pi / 180, threshold=100, minLineLength=100, maxLineGap=10)\n",
    "    \n",
    "    if lines is not None:\n",
    "        # 그리드의 모든 선을 찾고 그 길이를 계산\n",
    "        lengths = []\n",
    "        for line in lines:\n",
    "            for x1, y1, x2, y2 in line:\n",
    "                lengths.append(np.sqrt((x2 - x1) ** 2 + (y2 - y1) ** 2))\n",
    "        average_length = np.mean(lengths)\n",
    "        return average_length\n",
    "    else:\n",
    "        return None\n",
    "\n",
    "# 두 이미지의 그리드 크기 측정\n",
    "grid_size_50cm = measure_grid_size(image_50cm)\n",
    "grid_size_10cm = measure_grid_size(image_10cm)\n",
    "\n",
    "print(f\"Grid size at 50cm: {grid_size_50cm} pixels\")\n",
    "print(f\"Grid size at 10cm: {grid_size_10cm} pixels\")"
   ]
  },
  {
   "cell_type": "code",
   "execution_count": null,
   "metadata": {},
   "outputs": [],
   "source": []
  }
 ],
 "metadata": {
  "kernelspec": {
   "display_name": "Python 3",
   "language": "python",
   "name": "python3"
  },
  "language_info": {
   "codemirror_mode": {
    "name": "ipython",
    "version": 3
   },
   "file_extension": ".py",
   "mimetype": "text/x-python",
   "name": "python",
   "nbconvert_exporter": "python",
   "pygments_lexer": "ipython3",
   "version": "3.9.6"
  }
 },
 "nbformat": 4,
 "nbformat_minor": 2
}
